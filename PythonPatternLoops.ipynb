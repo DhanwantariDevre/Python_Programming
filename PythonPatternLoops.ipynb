{
 "cells": [
  {
   "cell_type": "markdown",
   "id": "4528f997-d6ff-4d18-babc-3e4300d760cf",
   "metadata": {},
   "source": [
    "# Patterns"
   ]
  },
  {
   "cell_type": "markdown",
   "id": "ffc5cad4-e1e9-4dc9-87b4-abe59edc348b",
   "metadata": {},
   "source": [
    "### Right Angle Triangle "
   ]
  },
  {
   "cell_type": "code",
   "execution_count": 8,
   "id": "fdc13ee8-33e9-477d-b0f2-030a54d2f893",
   "metadata": {},
   "outputs": [
    {
     "name": "stdout",
     "output_type": "stream",
     "text": [
      "* \n",
      "* * \n",
      "* * * \n",
      "* * * * \n",
      "* * * * * \n"
     ]
    }
   ],
   "source": [
    "for i in range(1,6):\n",
    "    print('* ' *i)"
   ]
  },
  {
   "cell_type": "markdown",
   "id": "8745409c-fcfc-4452-a087-c4dabf42c604",
   "metadata": {},
   "source": [
    "### Inverted Right Angle triangle"
   ]
  },
  {
   "cell_type": "code",
   "execution_count": 14,
   "id": "6f431582-25ae-492f-b3a1-1160ed0e6c84",
   "metadata": {},
   "outputs": [
    {
     "name": "stdout",
     "output_type": "stream",
     "text": [
      "* * * * * \n",
      "* * * * \n",
      "* * * \n",
      "* * \n",
      "* \n"
     ]
    }
   ],
   "source": [
    "for i in range(5,0,-1):\n",
    "    print('* '*i)"
   ]
  },
  {
   "cell_type": "markdown",
   "id": "586d0447-1bb6-47df-b5fc-cad48ee3ff86",
   "metadata": {},
   "source": [
    "### Half Pyramid Pattern"
   ]
  },
  {
   "cell_type": "code",
   "execution_count": 202,
   "id": "1f7cab33-ae1e-4bbd-a77e-cac4169e0dd0",
   "metadata": {},
   "outputs": [
    {
     "name": "stdout",
     "output_type": "stream",
     "text": [
      "* \n",
      "* * \n",
      "* * * \n",
      "* * * * \n",
      "* * * * * \n",
      "* * * * \n",
      "* * * \n",
      "* * \n",
      "* \n"
     ]
    }
   ],
   "source": [
    "for i in range(1,6):\n",
    "    print('* ' *i)\n",
    "for i in range(4,0,-1):\n",
    "    print('* '*i)"
   ]
  },
  {
   "cell_type": "markdown",
   "id": "ef6810fc-edc9-4176-a07e-c4c66dad28b2",
   "metadata": {},
   "source": [
    "### Pyramid Pattern"
   ]
  },
  {
   "cell_type": "code",
   "execution_count": 18,
   "id": "168ec407-f329-406f-b921-b532cbcdb693",
   "metadata": {},
   "outputs": [
    {
     "name": "stdout",
     "output_type": "stream",
     "text": [
      " * \n",
      " *  *  * \n",
      " *  *  *  *  * \n",
      " *  *  *  *  *  *  * \n",
      " *  *  *  *  *  *  *  *  * \n"
     ]
    }
   ],
   "source": [
    "for i in range(1,6):\n",
    "    print(''*(5-i)+' * '*(2*i-1))"
   ]
  },
  {
   "cell_type": "markdown",
   "id": "bf039914-b65f-4bbb-9292-39ccaaecc3c3",
   "metadata": {},
   "source": [
    "### Inverted Pyramid Pattern"
   ]
  },
  {
   "cell_type": "code",
   "execution_count": 20,
   "id": "2e156a19-9b04-4605-bd49-36642998a2e5",
   "metadata": {},
   "outputs": [
    {
     "name": "stdout",
     "output_type": "stream",
     "text": [
      " *  *  *  *  *  *  *  *  * \n",
      " *  *  *  *  *  *  * \n",
      " *  *  *  *  * \n",
      " *  *  * \n",
      " * \n"
     ]
    }
   ],
   "source": [
    "for i in range(5,0,-1):\n",
    "    print(''*(5-i)+' * '*(2*i-1))"
   ]
  },
  {
   "cell_type": "markdown",
   "id": "0e91bd6e-6d63-4aaf-be7a-629652bfd891",
   "metadata": {},
   "source": [
    "### Diamond Pattern"
   ]
  },
  {
   "cell_type": "code",
   "execution_count": 22,
   "id": "fc8ca5e5-93de-4b9d-a21a-798ec77474fc",
   "metadata": {},
   "outputs": [
    {
     "name": "stdout",
     "output_type": "stream",
     "text": [
      " * \n",
      " *  *  * \n",
      " *  *  *  *  * \n",
      " *  *  *  *  *  *  * \n",
      " *  *  *  *  *  *  *  *  * \n",
      " *  *  *  *  *  *  * \n",
      " *  *  *  *  * \n",
      " *  *  * \n",
      " * \n"
     ]
    }
   ],
   "source": [
    "for i in range(1,6):\n",
    "    print(''*(5-i)+' * '*(2*i-1))\n",
    "for i in range(4,0,-1):\n",
    "    print(''*(4-i)+' * '*(2*i-1))"
   ]
  },
  {
   "cell_type": "markdown",
   "id": "020182d3-a856-4d37-925d-4ec34fcd39d2",
   "metadata": {},
   "source": [
    "### Hallow Square Pattern"
   ]
  },
  {
   "cell_type": "code",
   "execution_count": 32,
   "id": "11e70b1f-8b5a-40ee-ae4f-cdcc5b1692bb",
   "metadata": {},
   "outputs": [
    {
     "name": "stdout",
     "output_type": "stream",
     "text": [
      "*****\n",
      "*   *\n",
      "*   *\n",
      "*   *\n",
      "*****\n"
     ]
    }
   ],
   "source": [
    "for i in range(5):\n",
    "    for j in range(5):\n",
    "        if i==0 or i==4 or j==0 or j==4:\n",
    "            print('*', end='')\n",
    "        else: \n",
    "            print(\" \",end='')\n",
    "    print()"
   ]
  },
  {
   "cell_type": "markdown",
   "id": "64494901-8b10-4d3e-86d5-38b8787f0140",
   "metadata": {},
   "source": [
    "### Full Square Pattern"
   ]
  },
  {
   "cell_type": "code",
   "execution_count": 42,
   "id": "9454f784-78e8-4bcd-81ac-5f17a23ce1bc",
   "metadata": {},
   "outputs": [
    {
     "name": "stdout",
     "output_type": "stream",
     "text": [
      " *  *  *  *  * \n",
      " *  *  *  *  * \n",
      " *  *  *  *  * \n",
      " *  *  *  *  * \n",
      " *  *  *  *  * \n"
     ]
    }
   ],
   "source": [
    "for i in range(5):\n",
    "    print(' * '*5)"
   ]
  },
  {
   "cell_type": "markdown",
   "id": "5993244e-1fa6-469d-9486-040af673c0ba",
   "metadata": {},
   "source": [
    "### Right Angle triangle(Number Pattern)"
   ]
  },
  {
   "cell_type": "code",
   "execution_count": 74,
   "id": "e8a1ce24-d50f-4941-8aa3-f5f739fa4748",
   "metadata": {},
   "outputs": [
    {
     "name": "stdout",
     "output_type": "stream",
     "text": [
      "1\n",
      "1 2\n",
      "1 2 3\n",
      "1 2 3 4\n",
      "1 2 3 4 5\n"
     ]
    }
   ],
   "source": [
    "for i in range(1,6):\n",
    "    print(' '.join(str(x) for x in range(1,i+1)))"
   ]
  },
  {
   "cell_type": "markdown",
   "id": "481f0fe0-6ef2-48bb-8df0-bcf39ea54ef6",
   "metadata": {},
   "source": [
    "### Inverted Right Angle triangle(Number Pattern)"
   ]
  },
  {
   "cell_type": "code",
   "execution_count": 60,
   "id": "13fb89d5-4d36-4a6e-841c-e1ca430edfd5",
   "metadata": {},
   "outputs": [
    {
     "name": "stdout",
     "output_type": "stream",
     "text": [
      "1 2 3 4 5\n",
      "1 2 3 4\n",
      "1 2 3\n",
      "1 2\n",
      "1\n"
     ]
    }
   ],
   "source": [
    "for i in range(5,0,-1):\n",
    "    print(' '.join(str(x) for x in range(1,i+1)))"
   ]
  },
  {
   "cell_type": "markdown",
   "id": "2ce93f0c-4f7c-4ad2-8eb8-7bf2cd190c0d",
   "metadata": {},
   "source": [
    "### Another Number Pattern"
   ]
  },
  {
   "cell_type": "code",
   "execution_count": 66,
   "id": "70a47bfb-2d94-424f-aec2-2cbfea27e963",
   "metadata": {},
   "outputs": [
    {
     "name": "stdout",
     "output_type": "stream",
     "text": [
      "1 \n",
      "2 2 \n",
      "3 3 3 \n",
      "4 4 4 4 \n",
      "5 5 5 5 5 \n"
     ]
    }
   ],
   "source": [
    "num=1\n",
    "for i in range(1,6):\n",
    "    for j in range(1,i+1):\n",
    "        print(num,end=' ')\n",
    "    num+=1\n",
    "    print()\n",
    "    "
   ]
  },
  {
   "cell_type": "markdown",
   "id": "e765e104-5a5e-438f-87ae-a759ce20e671",
   "metadata": {},
   "source": [
    "### Floyd's Triangle"
   ]
  },
  {
   "cell_type": "code",
   "execution_count": 68,
   "id": "5350ee00-bf84-4962-aea9-943d43360c72",
   "metadata": {},
   "outputs": [
    {
     "name": "stdout",
     "output_type": "stream",
     "text": [
      "1 \n",
      "2 3 \n",
      "4 5 6 \n",
      "7 8 9 10 \n",
      "11 12 13 14 15 \n"
     ]
    }
   ],
   "source": [
    "num=1\n",
    "for i in range(1,6):\n",
    "    for j in range(1,i+1):\n",
    "        print(num,end=' ')\n",
    "        num+=1\n",
    "    print()\n",
    "    "
   ]
  },
  {
   "cell_type": "markdown",
   "id": "825e8ea4-daee-42ae-ae9d-0d06e284caa7",
   "metadata": {},
   "source": [
    "### Hallow Right Angle Triangle"
   ]
  },
  {
   "cell_type": "code",
   "execution_count": 84,
   "id": "3c1645a3-51c9-491c-94ab-04bba6f7f6e5",
   "metadata": {},
   "outputs": [
    {
     "name": "stdout",
     "output_type": "stream",
     "text": [
      "* \n",
      "* * \n",
      "*   * \n",
      "*     * \n",
      "* * * * * \n"
     ]
    }
   ],
   "source": [
    "for i in range (1,6):\n",
    "    for j in range(1,i+1):\n",
    "        if j==1 or j==i or i==5:\n",
    "            print('*',end=' ')\n",
    "        else:\n",
    "            print(' ',end=' ')\n",
    "    print()"
   ]
  },
  {
   "cell_type": "markdown",
   "id": "51c5ae7a-e576-40fe-bdb3-2ce35c4f75fc",
   "metadata": {},
   "source": [
    "### HAllow Pyramid Pattern"
   ]
  },
  {
   "cell_type": "code",
   "execution_count": 114,
   "id": "ae6182ca-445d-4da0-a343-1465aaf607b8",
   "metadata": {},
   "outputs": [
    {
     "name": "stdout",
     "output_type": "stream",
     "text": [
      "        * \n",
      "      *   * \n",
      "    *       * \n",
      "  *           * \n",
      "* * * * * * * * * \n"
     ]
    }
   ],
   "source": [
    "for i in range(1, 6):\n",
    "    for j in range(5-i):\n",
    "        print(' ',end=' ')\n",
    "    for j in range(2 * i - 1):\n",
    "        if j == 0 or j == 2 * i - 2 or i == 5:\n",
    "            print('*',end=' ')\n",
    "        else:\n",
    "            print(' ',end=' ')\n",
    "    print()"
   ]
  },
  {
   "cell_type": "markdown",
   "id": "c6ce09a3-2a10-446c-b519-40468dc6382c",
   "metadata": {},
   "source": [
    "### Hallow Diamond Pattern"
   ]
  },
  {
   "cell_type": "code",
   "execution_count": 124,
   "id": "0fb02352-de48-480a-8220-982f4afad78a",
   "metadata": {},
   "outputs": [
    {
     "name": "stdout",
     "output_type": "stream",
     "text": [
      "        * \n",
      "      *   * \n",
      "    *       * \n",
      "  *           * \n",
      "*               * \n",
      "  *           * \n",
      "    *       * \n",
      "      *   * \n",
      "        * \n"
     ]
    }
   ],
   "source": [
    "n=5\n",
    "for i in range(1,n+1):\n",
    "    for j in range(n-i):\n",
    "        print(' ',end=' ')\n",
    "    for j in range(2 * i - 1):\n",
    "        if j == 0 or j == 2 * i - 2 :\n",
    "            print('*',end=' ')\n",
    "        else:\n",
    "            print(' ',end=' ')\n",
    "    print()\n",
    "\n",
    "for i in range(n-1,0,-1):\n",
    "    for j in range(n-i):\n",
    "        print(' ',end=' ')\n",
    "    for j in range(2 * i - 1):\n",
    "        if j == 0 or j == 2 * i - 2:\n",
    "            print('*',end=' ')\n",
    "        else:\n",
    "            print(' ',end=' ')\n",
    "    print()"
   ]
  },
  {
   "cell_type": "markdown",
   "id": "6c3547fb-f927-4ac5-8e84-a9b18766dff5",
   "metadata": {},
   "source": [
    "### Hallow Diamond(Number) pattern"
   ]
  },
  {
   "cell_type": "code",
   "execution_count": 126,
   "id": "d72c0b3a-f9ec-4f19-95c5-ad6737b61e7c",
   "metadata": {},
   "outputs": [
    {
     "name": "stdout",
     "output_type": "stream",
     "text": [
      "        1 \n",
      "      2   2 \n",
      "    3       3 \n",
      "  4           4 \n",
      "5               5 \n",
      "  4           4 \n",
      "    3       3 \n",
      "      2   2 \n",
      "        1 \n"
     ]
    }
   ],
   "source": [
    "n=5\n",
    "for i in range(1,n+1):\n",
    "    for j in range(n-i):\n",
    "        print(' ',end=' ')\n",
    "    for j in range(2 * i - 1):\n",
    "        if j == 0 or j == 2 * i - 2 :\n",
    "            print(i,end=' ')\n",
    "        else:\n",
    "            print(' ',end=' ')\n",
    "    print()\n",
    "\n",
    "for i in range(n-1,0,-1):\n",
    "    for j in range(n-i):\n",
    "        print(' ',end=' ')\n",
    "    for j in range(2 * i - 1):\n",
    "        if j == 0 or j == 2 * i - 2:\n",
    "            print(i,end=' ')\n",
    "        else:\n",
    "            print(' ',end=' ')\n",
    "    print()"
   ]
  },
  {
   "cell_type": "markdown",
   "id": "da7d6e02-77dc-4e22-afc5-312ecaaecf7f",
   "metadata": {},
   "source": [
    "### Butterfly Pattern"
   ]
  },
  {
   "cell_type": "code",
   "execution_count": 145,
   "id": "afff8a2a-e703-4d57-9963-9809b3fc8acd",
   "metadata": {},
   "outputs": [
    {
     "name": "stdout",
     "output_type": "stream",
     "text": [
      "0                 1 \n",
      "0 1             1 2 \n",
      "0 1 2         1 2 3 \n",
      "0 1 2 3     1 2 3 4 \n",
      "0 1 2 3 4 1 2 3 4 5 \n",
      "0 1 2 3 4 1 2 3 4 5 \n",
      "0 1 2 3     1 2 3 4 \n",
      "0 1 2         1 2 3 \n",
      "0 1             1 2 \n",
      "0                 1 \n",
      "*                 * \n",
      "* *             * * \n",
      "* * *         * * * \n",
      "* * * *     * * * * \n",
      "* * * * * * * * * * \n",
      "* * * * * * * * * * \n",
      "* * * *     * * * * \n",
      "* * *         * * * \n",
      "* *             * * \n",
      "*                 * \n"
     ]
    }
   ],
   "source": [
    "n=5\n",
    "for i in range(1,n+1):\n",
    "    for j in range(i):\n",
    "        print(j,end=' ')\n",
    "    for j in range(2*(n-i)):\n",
    "        print(' ',end=' ')\n",
    "    for j in range(1,i+1):\n",
    "        print(j,end=' ')\n",
    "    print()\n",
    "for i in range(n,0,-1):\n",
    "    for j in range(i):\n",
    "        print(j,end=' ')\n",
    "    for j in range(2*(n-i)):\n",
    "        print(' ',end=' ')\n",
    "    for j in range(1,i+1):\n",
    "        print(j,end=' ')\n",
    "    print()\n",
    "n=5\n",
    "for i in range(1,n+1):\n",
    "    for j in range(i):\n",
    "        print('*',end=' ')\n",
    "    for j in range(2*(n-i)):\n",
    "        print(' ',end=' ')\n",
    "    for j in range(1,i+1):\n",
    "        print('*',end=' ')\n",
    "    print()\n",
    "for i in range(n,0,-1):\n",
    "    for j in range(i):\n",
    "        print('*',end=' ')\n",
    "    for j in range(2*(n-i)):\n",
    "        print(' ',end=' ')\n",
    "    for j in range(1,i+1):\n",
    "        print('*',end=' ')\n",
    "    print()"
   ]
  },
  {
   "cell_type": "markdown",
   "id": "55d595f6-86f8-429f-bf11-b128db3e2ed7",
   "metadata": {},
   "source": [
    "### Hallow Number Pyramid"
   ]
  },
  {
   "cell_type": "code",
   "execution_count": 161,
   "id": "9e724caa-d685-4a22-a147-2a935b1a9c9b",
   "metadata": {},
   "outputs": [
    {
     "name": "stdout",
     "output_type": "stream",
     "text": [
      "        1 \n",
      "      2   2 \n",
      "    3       3 \n",
      "  4           4 \n",
      "5 5 5 5 5 5 5 5 5 \n"
     ]
    }
   ],
   "source": [
    "n=5\n",
    "for i in range(1, n+1):\n",
    "    for j in range(n-i):\n",
    "        print(' ',end=' ')\n",
    "        \n",
    "    for j in range(1,2 * i):\n",
    "        if j == 1 or j == 2 * i - 1 or i == n:\n",
    "            print(i,end=' ')\n",
    "        else:\n",
    "            print(' ',end=' ')\n",
    "    print()"
   ]
  },
  {
   "cell_type": "markdown",
   "id": "e078dd40-857c-41a3-9bfe-9d310a463fc5",
   "metadata": {},
   "source": [
    "### Full Star Pyramid"
   ]
  },
  {
   "cell_type": "code",
   "execution_count": 178,
   "id": "8374e796-e02f-4cad-985c-72eed47c83ca",
   "metadata": {},
   "outputs": [
    {
     "name": "stdout",
     "output_type": "stream",
     "text": [
      "        * \n",
      "      * * * \n",
      "    * * * * * \n",
      "  * * * * * * * \n",
      "* * * * * * * * * \n"
     ]
    }
   ],
   "source": [
    "n=5\n",
    "for i in range(1,n+1):\n",
    "    for j in range(n-i):\n",
    "        print(' ',end=' ')\n",
    "    for j in range(2*i-1):\n",
    "        print('*',end=' ')\n",
    "    print()"
   ]
  },
  {
   "cell_type": "markdown",
   "id": "3aa71a75-137f-4f67-a322-4e599d2f3894",
   "metadata": {},
   "source": [
    "### Inverted Full Star Pyramid"
   ]
  },
  {
   "cell_type": "code",
   "execution_count": 180,
   "id": "39767f06-d774-44c8-967d-94dcbe6d796c",
   "metadata": {},
   "outputs": [
    {
     "name": "stdout",
     "output_type": "stream",
     "text": [
      "* * * * * * * * * \n",
      "  * * * * * * * \n",
      "    * * * * * \n",
      "      * * * \n",
      "        * \n"
     ]
    }
   ],
   "source": [
    "n=5\n",
    "for i in range(n,0,-1):\n",
    "    for j in range(n-i):\n",
    "        print(' ',end=' ')\n",
    "    for j in range(2*i-1):\n",
    "        print('*',end=' ')\n",
    "    print()"
   ]
  },
  {
   "cell_type": "markdown",
   "id": "f753c18b-b03e-47c6-8739-af9484dc6986",
   "metadata": {},
   "source": [
    "### Left Alligned Pyramid"
   ]
  },
  {
   "cell_type": "code",
   "execution_count": 182,
   "id": "29ee4a17-cf6a-445f-a7d4-f2adf4c21835",
   "metadata": {},
   "outputs": [
    {
     "name": "stdout",
     "output_type": "stream",
     "text": [
      "* \n",
      "* * \n",
      "* * * \n",
      "* * * * \n",
      "* * * * * \n",
      "1 \n",
      "1 2 \n",
      "1 2 3 \n",
      "1 2 3 4 \n",
      "1 2 3 4 5 \n"
     ]
    }
   ],
   "source": [
    "n=5\n",
    "for i in range(1,n+1):\n",
    "    for j in range(i):\n",
    "        print('*',end=' ')\n",
    "    print()\n",
    "\n",
    "n=5\n",
    "for i in range(1,n+1):\n",
    "    for j in range(1,i+1):\n",
    "        print(j,end=' ')\n",
    "    print()"
   ]
  },
  {
   "cell_type": "markdown",
   "id": "5af7c82a-4990-4593-8913-2f680158e0fc",
   "metadata": {},
   "source": [
    "### Right Alligned Pyramid"
   ]
  },
  {
   "cell_type": "code",
   "execution_count": 190,
   "id": "90f77d31-476a-4b7d-99da-31934da28e4f",
   "metadata": {},
   "outputs": [
    {
     "name": "stdout",
     "output_type": "stream",
     "text": [
      "        1 \n",
      "      1 2 \n",
      "    1 2 3 \n",
      "  1 2 3 4 \n",
      "1 2 3 4 5 \n",
      "        * \n",
      "      * * \n",
      "    * * * \n",
      "  * * * * \n",
      "* * * * * \n"
     ]
    }
   ],
   "source": [
    "n=5\n",
    "for i in range(1,n+1):\n",
    "    for j in range(n-i):\n",
    "        print(' ',end=' ')\n",
    "    for j in range(1,i+1):\n",
    "        print(j,end=' ')\n",
    "    print()\n",
    "\n",
    "n=5\n",
    "for i in range(1,n+1):\n",
    "    for j in range(n-i):\n",
    "        print(' ',end=' ')\n",
    "    for j in range(i):\n",
    "        print('*',end=' ')\n",
    "    print()\n",
    "    "
   ]
  },
  {
   "cell_type": "code",
   "execution_count": null,
   "id": "a9f10b92-dcf3-4b36-8884-ab6fe06ffafa",
   "metadata": {},
   "outputs": [],
   "source": []
  }
 ],
 "metadata": {
  "kernelspec": {
   "display_name": "Python 3 (ipykernel)",
   "language": "python",
   "name": "python3"
  },
  "language_info": {
   "codemirror_mode": {
    "name": "ipython",
    "version": 3
   },
   "file_extension": ".py",
   "mimetype": "text/x-python",
   "name": "python",
   "nbconvert_exporter": "python",
   "pygments_lexer": "ipython3",
   "version": "3.12.7"
  }
 },
 "nbformat": 4,
 "nbformat_minor": 5
}
